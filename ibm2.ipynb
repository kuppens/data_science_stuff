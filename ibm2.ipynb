{
  "nbformat": 4,
  "nbformat_minor": 0,
  "metadata": {
    "colab": {
      "provenance": []
    },
    "kernelspec": {
      "name": "python3",
      "display_name": "Python 3"
    },
    "language_info": {
      "name": "python"
    }
  },
  "cells": [
    {
      "cell_type": "markdown",
      "source": [
        "# Data Science Course"
      ],
      "metadata": {
        "id": "OOAoB90A3JR_"
      }
    },
    {
      "cell_type": "markdown",
      "source": [
        "This is the introduction of the notebook"
      ],
      "metadata": {
        "id": "ccEpCScU3QBV"
      }
    },
    {
      "cell_type": "markdown",
      "source": [
        "Data Science Languages:\n",
        "\n",
        "1.   Python\n",
        "2.   Julia\n",
        "\n"
      ],
      "metadata": {
        "id": "uKIDxnZl3TeY"
      }
    },
    {
      "cell_type": "markdown",
      "source": [
        "Libraries:\n",
        "\n",
        "1.   Pandas\n",
        "2.   Keras\n"
      ],
      "metadata": {
        "id": "NMiv0I4b3bZc"
      }
    },
    {
      "cell_type": "markdown",
      "source": [
        "Tools:\n",
        "\n",
        "\n",
        "1.   Jupyter Notebooks\n",
        "2.   VS Studio Code\n",
        "3.   Seaborn Library\n",
        "\n"
      ],
      "metadata": {
        "id": "G-8Y2qR73nJU"
      }
    },
    {
      "cell_type": "markdown",
      "source": [
        "Below are some arithmetic examples:"
      ],
      "metadata": {
        "id": "tI2wE8ia3xCk"
      }
    },
    {
      "cell_type": "code",
      "source": [
        "1 + 1"
      ],
      "metadata": {
        "colab": {
          "base_uri": "https://localhost:8080/"
        },
        "id": "S1RPpcrO35iM",
        "outputId": "a51fd5e0-c326-4ac7-d56d-5ceb179174b3"
      },
      "execution_count": null,
      "outputs": [
        {
          "output_type": "execute_result",
          "data": {
            "text/plain": [
              "2"
            ]
          },
          "metadata": {},
          "execution_count": 1
        }
      ]
    },
    {
      "cell_type": "code",
      "source": [
        "3 * 17"
      ],
      "metadata": {
        "colab": {
          "base_uri": "https://localhost:8080/"
        },
        "id": "9h2dqVmy39f9",
        "outputId": "f682b612-292d-44c9-cac9-840494ec828a"
      },
      "execution_count": null,
      "outputs": [
        {
          "output_type": "execute_result",
          "data": {
            "text/plain": [
              "51"
            ]
          },
          "metadata": {},
          "execution_count": 2
        }
      ]
    },
    {
      "cell_type": "code",
      "source": [
        "# converts 8 hours to minutes:\n",
        "8 * 60"
      ],
      "metadata": {
        "id": "rJCOLJx64Nfc",
        "outputId": "66efd164-1872-49ff-ffef-24f676f8fa84",
        "colab": {
          "base_uri": "https://localhost:8080/"
        }
      },
      "execution_count": null,
      "outputs": [
        {
          "output_type": "execute_result",
          "data": {
            "text/plain": [
              "480"
            ]
          },
          "metadata": {},
          "execution_count": 3
        }
      ]
    }
  ]
}